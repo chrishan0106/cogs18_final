{
 "cells": [
  {
   "cell_type": "markdown",
   "metadata": {},
   "source": [
    "# Project Description"
   ]
  },
  {
   "cell_type": "markdown",
   "metadata": {},
   "source": [
    "My Project is a LeagueBot. This is a bot to organize data of 141 characters in the game called League of Legends. Since there are so many characters in the game, new players often get confused about the role of each characters and their classes. Therfore, I designed a chatbot that can inform users really brief information about the character. The bot can tell the user about role and classes of the specific character or the list of characters that belongs to certain role or classes. The next version's feature will be story of each characters and the list of items that each charcter usually gets for their chosen role. \n",
    "\n",
    "I tried to put good guidelines so users can use my chatbot without having troubles. Some basic functions are from the A3 ChatBot assignment but most of the functions were self written. Also imported webbrowser just so user can actually open the league of legends game webpage to see the list of characters. \n",
    "\n",
    "The project is done without using the class to see how python works without using the class. The code is really long with various functions but well organized for other developers to see and adapt some functions. \n",
    "\n",
    "Enjoy trying the League bot!"
   ]
  },
  {
   "cell_type": "markdown",
   "metadata": {},
   "source": [
    "## Project Code\n",
    "\n",
    "Command to exit the bot are 'quit' or 'exit' ('no' applies when the bot asks if you want more information or not)\n",
    "'link' will open League of Legends website with the list of characters whenever you type.\n",
    "'back' is only used to go back from the list of classes to selecting classes section. \n",
    "\n",
    "Other commands are pretty much described so first time user can follow easily. \n"
   ]
  },
  {
   "cell_type": "code",
   "execution_count": 4,
   "metadata": {},
   "outputs": [],
   "source": [
    "from my_module.League_Bot_Functions import *\n",
    "from my_module.League_Bot_Test_Functions import *"
   ]
  },
  {
   "cell_type": "code",
   "execution_count": 5,
   "metadata": {},
   "outputs": [
    {
     "name": "stdout",
     "output_type": "stream",
     "text": [
      "Welcome to Summoner's Rift\n",
      "What do you want to know? Choose between Role, Classes, or Characters\n",
      "You may type 'link' to open the browser with list of characters\n",
      "link\n",
      "Refer for future reference!\n",
      "Do you want different information? Type Yes or No\n",
      "yes\n",
      "What do you want to know more? Role or Classes or Characters?\n",
      "role\n",
      "Which Character's role information are you looking for?\n",
      "ashe\n",
      "The role of ashe is/are ADC\n",
      "Do you want different information? Type Yes or No\n",
      "yes\n",
      "What do you want to know more? Role or Classes or Characters?\n",
      "classes\n",
      "Which class information are you looking for? Type 'list' if you want to see the list of classes.\n",
      "list\n",
      "These are the List of Classes: artillery, assassin, battlemage, burst, catcher, diver, enchanter, juggernaut, marksman, skirmisher, specialist, vanguard, warden. Type 'back' to go back\n",
      "back\n",
      "Type the class or specific character. If you want to see the list of classes, type list\n",
      "ashe\n",
      "The class of ashe is/are marksman\n",
      "Do you want different information? Type Yes or No\n",
      "yes\n",
      "What do you want to know more? Role or Classes or Characters?\n",
      "classes\n",
      "Which class information are you looking for? Type 'list' if you want to see the list of classes.\n",
      "marksman\n",
      "The characters with marksman is/are Lucian, Kindred, Kog'Maw, Kai'Sa, Jinx, Jhin, Kalista, Caitlyn, Ashe, Draven, Corki, Ezreal, Sivir, Miss Fortune, Vayne, Varus, Twitch, Tristana, Xayah\n",
      "Do you want different information? Type Yes or No\n",
      "yes\n",
      "What do you want to know more? Role or Classes or Characters?\n",
      "charactrers\n",
      "Wrong Input or the feature will be updated in the future\n",
      "characters\n",
      "How do you want to find characters? Role or Classes?\n",
      "role\n",
      "Type the role. Type in order from Top to Bottom. There's Top, Jungle, Mid, ADC, and Support EX) Top and Jungle  Jungle and Mid\n",
      "mid\n",
      "The characters with mid is/are Xerath, Ziggs, Kassadin, Katarina, Fizz, Ekko, Talon, Zed, Malzahar, Karthus, Cassiopeia, Aurelion Sol, Anivia, Ryze, Vladimir, Lissandra, LeBlanc, Ahri, Annie, Orianna, Twisted Fate, Syndra, Zoe, Diana, Azir, Galio\n",
      "Do you want different information? Type Yes or No\n",
      "yes\n",
      "What do you want to know more? Role or Classes or Characters?\n",
      "characters\n",
      "How do you want to find characters? Role or Classes?\n",
      "classes\n",
      "Type the class or specific character. If you want to see the list of classes, type list\n",
      "list\n",
      "These are the List of Classes: artillery, assassin, battlemage, burst, catcher, diver, enchanter, juggernaut, marksman, skirmisher, specialist, vanguard, warden. Type 'back' to go back\n",
      "back\n",
      "Type the class or specific character. If you want to see the list of classes, type list\n",
      "burst\n",
      "The characters with burst is/are Lux, Lissandra, LeBlanc, Brand, Ahri, Annie, Orianna, Veigar, Twisted Fate, Syndra, Zoe\n",
      "Do you want different information? Type Yes or No\n",
      "no\n",
      "Fine. Good bye.\n"
     ]
    }
   ],
   "source": [
    "#The main function to run the League Bot\n",
    "activate_chatBot()"
   ]
  },
  {
   "cell_type": "markdown",
   "metadata": {
    "collapsed": true
   },
   "source": [
    "## TESTING SECTION\n",
    "\n",
    "The test_all function will run all the testers I wrote on League_Bot_Test_Functions. "
   ]
  },
  {
   "cell_type": "code",
   "execution_count": 6,
   "metadata": {},
   "outputs": [],
   "source": [
    "test_all()"
   ]
  },
  {
   "cell_type": "code",
   "execution_count": null,
   "metadata": {},
   "outputs": [],
   "source": []
  }
 ],
 "metadata": {
  "kernelspec": {
   "display_name": "Python 3",
   "language": "python",
   "name": "python3"
  },
  "language_info": {
   "codemirror_mode": {
    "name": "ipython",
    "version": 3
   },
   "file_extension": ".py",
   "mimetype": "text/x-python",
   "name": "python",
   "nbconvert_exporter": "python",
   "pygments_lexer": "ipython3",
   "version": "3.6.8"
  }
 },
 "nbformat": 4,
 "nbformat_minor": 2
}
